{
 "cells": [
  {
   "cell_type": "code",
   "execution_count": 1,
   "metadata": {},
   "outputs": [],
   "source": [
    "import numpy as np\n",
    "from scipy.stats import gamma, norm\n",
    "from scipy.optimize import minimize\n",
    "import matplotlib.pyplot as plt"
   ]
  },
  {
   "cell_type": "code",
   "execution_count": 2,
   "metadata": {},
   "outputs": [],
   "source": [
    "np.random.seed(seed=42)"
   ]
  },
  {
   "cell_type": "markdown",
   "metadata": {},
   "source": [
    "<h3>Génération des données</h3>"
   ]
  },
  {
   "cell_type": "markdown",
   "metadata": {},
   "source": [
    "<h4>La source</h4>"
   ]
  },
  {
   "cell_type": "markdown",
   "metadata": {},
   "source": [
    "Supposons que les données que l'on observe soient des réalisations i.i.d. (indépendantes et identiquement distribuées) d'un triplet de variables aléatoires $(X_1,X_2,Y)$ où :\n",
    "<ul>\n",
    "    <li> $X_1 \\sim \\mathcal{N}(0,1)$, </li>\n",
    "    <li> $X_2 \\sim \\Gamma(2,1)$, </li>\n",
    "    <li> $Y = \\frac{1}{2} \\left( c_1 X_1 + c_2 X_2 + c_3 X_1 X_2 \\right) + \\varepsilon, \\quad \\varepsilon \\sim \\mathcal{N}(0,1)$.  </li>\n",
    "</ul>\n",
    "Le vecteur $c=(c_1,c_2,c_3)$ est un paramètre fixé à l'avance que l'on peut faire varier.\n",
    "\n",
    "On notera $P_S(x_1,x_2,y)$ la loi du triplet $(X_1,X_2,Y)$."
   ]
  },
  {
   "cell_type": "markdown",
   "metadata": {},
   "source": [
    "<h4>La cible</h4>"
   ]
  },
  {
   "cell_type": "markdown",
   "metadata": {},
   "source": [
    "On suppose que les données sur lesquelles nous souhaitons déployer notre algorithme suivent une loi de probabilité cible $P_T(x_1,x_2,y)$, déformation continue de la loi source $P_S(x_1,x_2,y)$. Pour être tout à fait précis, on suppose que $P_T$ est absoluement continue par rapport à $P_S$ et l'on note $w$ la dérivée de radon-Nikodym associée. \n",
    "\n",
    "De manière informelle, cela revient à supposer qu'il existe une fonction de re-pondération $w(x_1,x_2,y)$ telle que :\n",
    "$$  P_T(x_1,x_2,y) = w(x_1,x_2,y) P_S(x_1,x_2,y).  $$\n",
    "\n",
    "L'égalité ci-dessus pourra se lire \" ``la probabilité d'observer (X_1=x_1,X_2=x_2,Y=y) sous la loi cible est égale à la probabilité d'observer (X_1=x_1,X_2=x_2,Y=y) sous la loi source, multipliée par le poids w(x_1,x_2,y).`` \"\n",
    "\n",
    "Dans ce qui suit, nous choisirons la fonction de re-pondération suivante :\n",
    "$$ w(x_1,x_2,x_3) = \\frac{1}{\\mathcal{Z}} (4x_1^2 + x_2^2 + y^2), \\quad \\quad \n",
    "\\text{avec} \\, \\, \\,  \\mathcal{Z} = \\int_{ \\mathbb{R}^3 } (4x_1^2 + x_2^2 + y^2) \\mathrm{d} P_S(x_1,x_2,y). $$"
   ]
  },
  {
   "cell_type": "markdown",
   "metadata": {},
   "source": [
    "<h4>Une approche de Monte-Carlo</h4>"
   ]
  },
  {
   "cell_type": "markdown",
   "metadata": {},
   "source": [
    "Afin d'éviter les problèmes d'intégration numérique, on utilise une approche de Monte-Carlo, qui consiste à approcher les mesures de probabiltié $P_S$ et $P_T$ par des lois discrètes.\n",
    "\n",
    "On commence par générer un ensemble de réalisations i.i.d. de la loi source à l'aide de la fonction suivante."
   ]
  },
  {
   "cell_type": "code",
   "execution_count": 3,
   "metadata": {},
   "outputs": [],
   "source": [
    "def generate_data(N, c):\n",
    "    # N: integer\n",
    "    # w: list/array of size 3\n",
    "    # return an array of size (N, 3), each row corresponding\n",
    "    # to a realization of the triplet (X_1, X_2, Y) described before\n",
    "    \n",
    "    x_1 = np.random.randn(N)\n",
    "    x_2 = np.random.gamma(2, size=N)\n",
    "    x = np.c_[x_1, x_2]\n",
    "\n",
    "    eps = np.random.randn(N)\n",
    "    y = 0.5*(c[0]*x[:, 0] + c[1]*x[:, 1] + c[2]*x[:, 0]*x[:, 1]) + eps\n",
    "    \n",
    "    return np.c_[x, y]"
   ]
  },
  {
   "cell_type": "code",
   "execution_count": 4,
   "metadata": {},
   "outputs": [],
   "source": [
    "N_mc = int(10e5)\n",
    "c = np.array([2.,0.8,1.3])\n",
    "data_mc = generate_data(N_mc, c)"
   ]
  },
  {
   "cell_type": "markdown",
   "metadata": {},
   "source": [
    "Notons $Z_i = (X_{1,i},X_{2,i},Y_i)$ la $i$-ème ligne du tableau data_mc. On utilise l'approximation suivante :\n",
    "$$  P_S \\approx \\frac{1}{N_{mc}} \\sum\\limits_{i=1}^{N_{mc}} \\delta_{Z_i}. $$\n",
    "De manière informelle, cette approximation reflète le fait que l'histogramme des $Z_i$ approche la loi du triplet $(X_1,X_2,Y)$. En particulier :\n",
    "<ul>\n",
    "    <li> l'histogramme des $X_{1,i}$ approche la densité d'une loi normale $\\mathcal{N}(0,1)$, </li>\n",
    "    <li> l'histogramme des $X_{2,i}$ approche la densité d'une loi Gamma $\\Gamma(2,1)$. </li>\n",
    "</ul>\n",
    "On illustre cette approximation avec la cellule suivante."
   ]
  },
  {
   "cell_type": "code",
   "execution_count": 5,
   "metadata": {},
   "outputs": [
    {
     "data": {
      "image/png": "[encoded data removed]",
      "text/plain": [
       "<Figure size 720x288 with 2 Axes>"
      ]
     },
     "metadata": {
      "needs_background": "light"
     },
     "output_type": "display_data"
    }
   ],
   "source": [
    "plt.figure(figsize=(10,4))\n",
    "\n",
    "plt.subplot(1,2,1)\n",
    "plt.xlim(-4.5, 4.5)\n",
    "plt.hist(data_mc[:,0], bins=20, color='lightblue', rwidth=0.7, alpha=0.8, density=True)\n",
    "x = np.linspace(-4.5, 4.5, 100)\n",
    "plt.plot(x, norm.pdf(x), color='firebrick', linewidth=3, alpha=0.7)\n",
    "plt.title('$X_1$ marginal')\n",
    "\n",
    "plt.subplot(1,2,2)\n",
    "plt.xlim(0, 9)\n",
    "plt.hist(data_mc[:,1], bins=40, color='lightblue', rwidth=0.7, alpha=0.8, density=True)\n",
    "x = np.linspace(0, 9, 100)\n",
    "plt.plot(x, gamma.pdf(x, 2), color='firebrick', linewidth=3, alpha=0.7)\n",
    "plt.title('$X_2$ marginal')\n",
    "\n",
    "plt.show()"
   ]
  },
  {
   "cell_type": "markdown",
   "metadata": {},
   "source": [
    "On peut donc remplacer $P_S$ par la mesure ponctuelle $\\frac{1}{N_{mc}} \\sum\\limits_{i=1}^{N_{mc}} \\delta_{Z_i}$, qui consiste à choisir un $Z_i$ uniformément parmi l'ensemble $\\{Z_1, \\ldots, Z_{N_{mc}} \\}$."
   ]
  },
  {
   "cell_type": "code",
   "execution_count": 6,
   "metadata": {},
   "outputs": [],
   "source": [
    "def proba_source(nb_samples):\n",
    "    # nb_samples: integer\n",
    "    # return an array of size (nb_samples, 3), each row being a\n",
    "    # uniform row of the initial array data_mc\n",
    "    \n",
    "    idx = np.random.randint(N_mc, size=nb_samples)\n",
    "    return data_mc[idx]"
   ]
  },
  {
   "cell_type": "markdown",
   "metadata": {},
   "source": [
    "Pour $P_T$, c'est un peu plus compliqué et l'on omet les détails. On remplace $P_T$ par la mesure ponctuelle\n",
    "\n",
    "$$ \\sum\\limits_{i=1}^N \\omega_i \\delta_{Z_i}, \\quad \\quad \\text{avec} \\, \\, \\omega_i = \\frac{w\\left( X_{1,i}, X_{2,i}, Y_i \\right)}{\\sum_{1 \\leq j \\leq N} w\\left( X_{1,j}, X_{2,j}, Y_j \\right)}.$$\n",
    "\n",
    "Celle-ci consiste à choisir $Z_i$ parmi $\\{Z_1, \\ldots, Z_{N_{mn}}\\}$ avec probabilité $\\omega_i$."
   ]
  },
  {
   "cell_type": "code",
   "execution_count": 7,
   "metadata": {},
   "outputs": [],
   "source": [
    "w = [ 4*z[0]**2 + z[1]**2 + z[2]**2 for z in data_mc ]\n",
    "omega = w / np.sum(w)"
   ]
  },
  {
   "cell_type": "code",
   "execution_count": 8,
   "metadata": {},
   "outputs": [],
   "source": [
    "def proba_target(nb_samples):\n",
    "    # nb_samples: integer\n",
    "    # return an array of size (nb_samples, 3), each row being equal\n",
    "    # to the i-th row of data_mc with probability omega_i.\n",
    "    \n",
    "    idx = np.random.choice(N_mc, size=nb_samples, p=omega)\n",
    "    return data_mc[idx]"
   ]
  },
  {
   "cell_type": "markdown",
   "metadata": {},
   "source": [
    "On peut visualiser le shift inoculé par le changement de mesure avec la cellule suivante."
   ]
  },
  {
   "cell_type": "code",
   "execution_count": 9,
   "metadata": {},
   "outputs": [
    {
     "data": {
      "image/png": "[encoded data removed]",
      "text/plain": [
       "<Figure size 720x288 with 2 Axes>"
      ]
     },
     "metadata": {
      "needs_background": "light"
     },
     "output_type": "display_data"
    }
   ],
   "source": [
    "nb_samples = int(10e3)\n",
    "\n",
    "data_source = proba_source(nb_samples)\n",
    "data_target = proba_target(nb_samples) \n",
    "\n",
    "plt.figure(figsize=(10,4))\n",
    "\n",
    "plt.subplot(1,2,1)\n",
    "plt.xlim(-4.5, 4.5)\n",
    "#plt.hist(data_source[:,0], bins=18, color='mediumslateblue', rwidth=0.7, alpha=0.8, density=True, label='source')\n",
    "#plt.hist(data_target[:,0], bins=20, color='tomato', rwidth=0.7, alpha=0.8, density=True, label='target')\n",
    "plt.hist([data_source[:,0],data_target[:,0]], \n",
    "         bins=30, color=['mediumslateblue','tomato'], \n",
    "         rwidth=0.7, alpha=0.8, density=True, label=['source','target'])\n",
    "plt.legend(loc='best')\n",
    "plt.title('$X_1$ marginal')\n",
    "\n",
    "plt.subplot(1,2,2)\n",
    "plt.xlim(0, 15)\n",
    "#plt.hist(data_source[:,1], bins=18, color='mediumslateblue', rwidth=0.7, alpha=0.8, density=True, label='source')\n",
    "#plt.hist(data_target[:,1], bins=20, color='tomato', rwidth=0.7, alpha=0.8, density=True, label='target')\n",
    "plt.hist([data_source[:,1],data_target[:,1]], \n",
    "         bins=30, color=['mediumslateblue','tomato'], \n",
    "         rwidth=0.7, alpha=0.8, density=True, label=['source','target'])\n",
    "plt.legend(loc='best')\n",
    "plt.title('$X_2$ marginal')\n",
    "\n",
    "plt.show()"
   ]
  },
  {
   "cell_type": "markdown",
   "metadata": {},
   "source": [
    "<h3>Re-pondération des données sources</h3>"
   ]
  },
  {
   "cell_type": "markdown",
   "metadata": {},
   "source": [
    "En pratique, on observe uniquement des données sous la loi source $P_S$ et *aucune* sous la loi cible $P_T$. En revanche, on a parfois accès à de l'information auxiliaire sur la loi $P_T$. Dans ce qui suit, on suppose que l'on connaît la moyenne de $X_1$ et de $X_2$ sous la loi cible. Comme dans ce qui précède, on approxime ces moyennes à l'aide de la méthode de Monte-Carlo :\n",
    "$$ \\mathbb{E}_{P_T}[X_1] \\approx \\sum\\limits_{i=1}^{N_{mc}} \\omega_i X_1^{(i)} \\quad \\quad \\text{et} \n",
    "\\quad \\quad  \\mathbb{E}_{P_T}[X_2] \\approx \\sum\\limits_{i=1}^{N_{mc}} \\omega_i X_2^{(i)}.$$\n",
    "On calcule ces quantités dans la cellule suivante. "
   ]
  },
  {
   "cell_type": "code",
   "execution_count": 10,
   "metadata": {},
   "outputs": [],
   "source": [
    "idx = np.random.choice(N_mc, N_mc, p=omega)\n",
    "z_t = data_mc[idx]\n",
    "\n",
    "mu = np.zeros(3)\n",
    "mu[0] = 1\n",
    "mu[1] = z_t[:,0].mean()\n",
    "mu[2] = z_t[:,1].mean()"
   ]
  },
  {
   "cell_type": "code",
   "execution_count": 11,
   "metadata": {},
   "outputs": [
    {
     "data": {
      "text/plain": [
       "(0.2565809546628422, 3.1912108020851933)"
      ]
     },
     "execution_count": 11,
     "metadata": {},
     "output_type": "execute_result"
    }
   ],
   "source": [
    "mu[1], mu[2]"
   ]
  },
  {
   "cell_type": "markdown",
   "metadata": {},
   "source": [
    "<font color='red'>Attention :</font> Pour simuler nos données, nous avons utilisé la connaissance des coeficients de re-pondération $\\omega_i$. Nous allons désormais devenir amnésique et essayer de retrouver ces coefficients à partir de la connaissance :\n",
    "<ul>\n",
    "    <li> des données sources (data_source), que l'on note $Z^{S}_i = (X^{S}_{1,i}, X^{S}_{2,i}, Y^{S}_i)$, $i=1, \\ldots, n = \\text{nb_samples}$ ; </li>\n",
    "    <li> d'une hypothèse paramétrique sur la fonction $w(x_1,x_2,y)$ ; </li>\n",
    "    <li> de l'information auxiliaire $\\mathbb{E}_{P_T}[X_1] = \\mu_1$ et $\\mathbb{E}_{P_T}[X_2] = \\mu_2$.</li>    \n",
    "</ul>\n",
    "Pour simplifier notre propos, nous supposons que la fonction $\\omega$ est de la forme\n",
    "$$ \\omega_\\alpha(x_1,x_2,y) =  \\alpha_1^2x_1^2 + 4 \\alpha_2^2 x_2^2 + 2 \\alpha_3^2 y^2 = \\alpha^T \\mathrm{Diag}(x_1^2, 4x_2^2, 2 y^2) \\alpha ,$$\n",
    "pour un certain vecteur $\\alpha = (\\alpha_1, \\alpha_2, \\alpha_3)$. \n",
    "\n",
    "\n",
    "Le but est de trouver le coefficient $\\alpha$ satisfaisant au mieux les contraintes du problème. Pour cela, on cherche à minimiser la fonction d'erreur\n",
    "$$ \\Psi_n(\\alpha) = \\left( \\frac{1}{n} \\sum\\limits_{i=1}^{n} w_\\alpha( Z_i^{S} )  - 1 \\right)^2\n",
    "                  + \\left( \\frac{1}{n} \\sum\\limits_{i=1}^{n} w_\\alpha( Z_i^{S} ) X^{S}_{1,i} - \\mu_1  \\right)^2\n",
    "                  + \\left( \\frac{1}{n} \\sum\\limits_{i=1}^{n} w_\\alpha( Z_i^{S} ) X^{S}_{2,i} - \\mu_2  \\right)^2 .$$\n",
    "                  \n",
    "Le premier terme permet de prendre en compte le fait que les $\\omega_i$ correspondent peu ou prou à une mesure de probabilité."
   ]
  },
  {
   "cell_type": "code",
   "execution_count": 12,
   "metadata": {},
   "outputs": [],
   "source": [
    "def psi_emp(alpha):\n",
    "    w_alpha = np.array([ alpha[0]**2 * z[0]**2 + alpha[1]**2 * z[1]**2 + alpha[2]**2 * z[2]**2 for z in data_source ]) \n",
    "    omega_alpha = w_alpha / np.sum(w_alpha)\n",
    "    term0 = np.mean( omega_alpha )\n",
    "    term1 = np.mean( omega_alpha.T @ data_source[:,0] )\n",
    "    term2 = np.mean( omega_alpha.T @ data_source[:,1] )\n",
    "    return (term0 - mu[0])**2 + (term1 - mu[1])**2 + (term2 - mu[2])**2"
   ]
  },
  {
   "cell_type": "markdown",
   "metadata": {},
   "source": [
    "On exploite le module optimize de scipy et on utilise plusieurs points d'initialisation afin d'estimer $\\alpha$ dans la cellule qui suit."
   ]
  },
  {
   "cell_type": "code",
   "execution_count": 13,
   "metadata": {},
   "outputs": [
    {
     "data": {
      "text/plain": [
       "array([2.2970449 , 1.20640381, 1.15811471])"
      ]
     },
     "execution_count": 13,
     "metadata": {},
     "output_type": "execute_result"
    }
   ],
   "source": [
    "alpha_est = []\n",
    "psi_emp_est = []\n",
    "for b in range(1):\n",
    "    res = minimize(psi_emp, np.random.randn(3), method='BFGS')\n",
    "    alpha_est.append(np.abs(res.x))\n",
    "    psi_emp_est.append(psi_emp(res.x))\n",
    "idx = np.argmin(psi_emp_est)\n",
    "alpha_emp = alpha_est[idx]\n",
    "alpha_emp"
   ]
  },
  {
   "cell_type": "code",
   "execution_count": 14,
   "metadata": {},
   "outputs": [],
   "source": [
    "weight_emp = np.array([ alpha_emp[0]**2 * z[0]**2 + alpha_emp[1]**2 * z[1]**2 + alpha_emp[2]**2 * z[2]**2 for z in data_source ]) "
   ]
  },
  {
   "cell_type": "code",
   "execution_count": 15,
   "metadata": {},
   "outputs": [],
   "source": [
    "X_S, y_S = data_source[:,:2], data_source[:,2]\n",
    "X_T, y_T = data_target[:,:2], data_target[:,2]"
   ]
  },
  {
   "cell_type": "code",
   "execution_count": 16,
   "metadata": {},
   "outputs": [],
   "source": [
    "Z_test = proba_target(int(nb_samples/20)) \n",
    "X_test, y_test = Z_test[:,:2], Z_test[:,2]"
   ]
  },
  {
   "cell_type": "code",
   "execution_count": 17,
   "metadata": {},
   "outputs": [],
   "source": [
    "from sklearn.linear_model import LinearRegression\n",
    "from sklearn.metrics import mean_squared_error"
   ]
  },
  {
   "cell_type": "code",
   "execution_count": 18,
   "metadata": {},
   "outputs": [
    {
     "name": "stdout",
     "output_type": "stream",
     "text": [
      "3.953898811942576 3.9416020921617565 5.425933223397712\n"
     ]
    }
   ],
   "source": [
    "lin1 = LinearRegression()\n",
    "lin1.fit(X_S, y_S, weight_emp)\n",
    "y_pred_1 = lin1.predict(X_test)\n",
    "\n",
    "lin2 = LinearRegression()\n",
    "lin2.fit(X_T, y_T, weight_emp)\n",
    "y_pred_2 = lin2.predict(X_test)\n",
    "\n",
    "lin3 = LinearRegression()\n",
    "lin3.fit(X_S,y_S)\n",
    "y_pred_3 = lin3.predict(X_test)\n",
    "\n",
    "mse1 = mean_squared_error(y_test,y_pred_1)\n",
    "mse2 = mean_squared_error(y_test,y_pred_2)\n",
    "mse3 = mean_squared_error(y_test,y_pred_3)\n",
    "\n",
    "print(mse1, mse2, mse3)"
   ]
  },
  {
   "cell_type": "markdown",
   "metadata": {},
   "source": [
    "<h4>Observation de la re-pondération</h4>"
   ]
  },
  {
   "cell_type": "code",
   "execution_count": 19,
   "metadata": {},
   "outputs": [],
   "source": [
    "def reweighted_prob(nb_samples, data, weights):\n",
    "    idx = np.random.choice(data.shape[0], size=nb_samples, p=weights/np.sum(weights))\n",
    "    return data[idx]"
   ]
  },
  {
   "cell_type": "code",
   "execution_count": 20,
   "metadata": {},
   "outputs": [],
   "source": [
    "weights = weight_emp / np.sum(weight_emp)"
   ]
  },
  {
   "cell_type": "code",
   "execution_count": 21,
   "metadata": {},
   "outputs": [],
   "source": [
    "N = data_source.shape[0]\n",
    "X_reweighted = reweighted_prob(N, data_source, weights)"
   ]
  },
  {
   "cell_type": "code",
   "execution_count": 22,
   "metadata": {},
   "outputs": [
    {
     "data": {
      "image/png": "[encoded data removed]",
      "text/plain": [
       "<Figure size 1080x432 with 2 Axes>"
      ]
     },
     "metadata": {
      "needs_background": "light"
     },
     "output_type": "display_data"
    }
   ],
   "source": [
    "plt.figure(figsize=(15,6))\n",
    "\n",
    "plt.subplot(1,2,1)\n",
    "plt.hist([X_T[:,1], X_reweighted[:,1], X_S[:,1]], bins=20, color=['tomato', 'forestgreen', 'mediumslateblue'], rwidth=0.7, \n",
    "        weights=[(1/N)*np.ones(N), (1/N)*np.ones(N), (1/N)*np.ones(N)],\n",
    "        label=['target', 'reweighted', 'source'])\n",
    "plt.legend(loc='best')\n",
    "\n",
    "plt.subplot(1,2,2)\n",
    "plt.hist([X_T[:,0], X_reweighted[:,0], X_S[:,0]], bins=20, color=['tomato', 'forestgreen', 'mediumslateblue'], rwidth=0.7, \n",
    "        weights=[(1/N)*np.ones(N), (1/N)*np.ones(N), (1/N)*np.ones(N)],\n",
    "        label=['target', 'reweighted', 'source'])\n",
    "plt.legend(loc='best')\n",
    "\n",
    "plt.show()"
   ]
  },
  {
   "cell_type": "code",
   "execution_count": null,
   "metadata": {},
   "outputs": [],
   "source": []
  }
 ],
 "metadata": {
  "kernelspec": {
   "display_name": "Python 3",
   "language": "python",
   "name": "python3"
  },
  "language_info": {
   "codemirror_mode": {
    "name": "ipython",
    "version": 3
   },
   "file_extension": ".py",
   "mimetype": "text/x-python",
   "name": "python",
   "nbconvert_exporter": "python",
   "pygments_lexer": "ipython3",
   "version": "3.8.5"
  }
 },
 "nbformat": 4,
 "nbformat_minor": 4
}
